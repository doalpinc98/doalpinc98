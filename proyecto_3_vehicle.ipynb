{
 "cells": [
  {
   "cell_type": "markdown",
   "metadata": {
    "toc": true
   },
   "source": [
    "<h1>Table of Contents<span class=\"tocSkip\"></span></h1>\n",
    "<div class=\"toc\"><ul class=\"toc-item\"><li><span><a href=\"#¿Qué-vende-un-coche?\" data-toc-modified-id=\"¿Qué-vende-un-coche?-1\"><span class=\"toc-item-num\">1&nbsp;&nbsp;</span>¿Qué vende un coche?</a></span><ul class=\"toc-item\"><li><span><a href=\"#Inicialización\" data-toc-modified-id=\"Inicialización-1.1\"><span class=\"toc-item-num\">1.1&nbsp;&nbsp;</span>Inicialización</a></span><ul class=\"toc-item\"><li><span><a href=\"#Cargar-datos\" data-toc-modified-id=\"Cargar-datos-1.1.1\"><span class=\"toc-item-num\">1.1.1&nbsp;&nbsp;</span>Cargar datos</a></span></li><li><span><a href=\"#Explorar-datos-iniciales\" data-toc-modified-id=\"Explorar-datos-iniciales-1.1.2\"><span class=\"toc-item-num\">1.1.2&nbsp;&nbsp;</span>Explorar datos iniciales</a></span></li><li><span><a href=\"#Conclusiones-y-siguientes-pasos\" data-toc-modified-id=\"Conclusiones-y-siguientes-pasos-1.1.3\"><span class=\"toc-item-num\">1.1.3&nbsp;&nbsp;</span>Conclusiones y siguientes pasos</a></span></li></ul></li><li><span><a href=\"#Tratar-los-valores-ausentes-(si-hay)\" data-toc-modified-id=\"Tratar-los-valores-ausentes-(si-hay)-1.2\"><span class=\"toc-item-num\">1.2&nbsp;&nbsp;</span>Tratar los valores ausentes (si hay)</a></span><ul class=\"toc-item\"><li><span><a href=\"#Reemplazo-de-ausentes-en-'is_4wd'\" data-toc-modified-id=\"Reemplazo-de-ausentes-en-'is_4wd'-1.2.1\"><span class=\"toc-item-num\">1.2.1&nbsp;&nbsp;</span>Reemplazo de ausentes en 'is_4wd'</a></span></li><li><span><a href=\"#Reemplazo-de-ausentes-en-'model_year'\" data-toc-modified-id=\"Reemplazo-de-ausentes-en-'model_year'-1.2.2\"><span class=\"toc-item-num\">1.2.2&nbsp;&nbsp;</span>Reemplazo de ausentes en 'model_year'</a></span></li><li><span><a href=\"#Reemplazar-datos-ausentes-de-cylinders\" data-toc-modified-id=\"Reemplazar-datos-ausentes-de-cylinders-1.2.3\"><span class=\"toc-item-num\">1.2.3&nbsp;&nbsp;</span>Reemplazar datos ausentes de cylinders</a></span></li><li><span><a href=\"#Reemplazar-datos-ausentes-en-odometer\" data-toc-modified-id=\"Reemplazar-datos-ausentes-en-odometer-1.2.4\"><span class=\"toc-item-num\">1.2.4&nbsp;&nbsp;</span>Reemplazar datos ausentes en odometer</a></span></li><li><span><a href=\"#Reemplazar-datos-ausentes-en-paint-color\" data-toc-modified-id=\"Reemplazar-datos-ausentes-en-paint-color-1.2.5\"><span class=\"toc-item-num\">1.2.5&nbsp;&nbsp;</span>Reemplazar datos ausentes en paint color</a></span></li></ul></li><li><span><a href=\"#Corregir-los-tipos-de-datos\" data-toc-modified-id=\"Corregir-los-tipos-de-datos-1.3\"><span class=\"toc-item-num\">1.3&nbsp;&nbsp;</span>Corregir los tipos de datos</a></span></li><li><span><a href=\"#Enriquecer-datos\" data-toc-modified-id=\"Enriquecer-datos-1.4\"><span class=\"toc-item-num\">1.4&nbsp;&nbsp;</span>Enriquecer datos</a></span></li><li><span><a href=\"#Comprobar-datos-limpios\" data-toc-modified-id=\"Comprobar-datos-limpios-1.5\"><span class=\"toc-item-num\">1.5&nbsp;&nbsp;</span>Comprobar datos limpios</a></span></li><li><span><a href=\"#Estudiar-parámetros-principales\" data-toc-modified-id=\"Estudiar-parámetros-principales-1.6\"><span class=\"toc-item-num\">1.6&nbsp;&nbsp;</span>Estudiar parámetros principales</a></span></li><li><span><a href=\"#Estudiar-y-tratar-valores-atípicos\" data-toc-modified-id=\"Estudiar-y-tratar-valores-atípicos-1.7\"><span class=\"toc-item-num\">1.7&nbsp;&nbsp;</span>Estudiar y tratar valores atípicos</a></span></li><li><span><a href=\"#Estudiar-parámetros-principales-sin-valores-atípicos\" data-toc-modified-id=\"Estudiar-parámetros-principales-sin-valores-atípicos-1.8\"><span class=\"toc-item-num\">1.8&nbsp;&nbsp;</span>Estudiar parámetros principales sin valores atípicos</a></span></li><li><span><a href=\"#Periodo-de-colocación-de-los-anuncios\" data-toc-modified-id=\"Periodo-de-colocación-de-los-anuncios-1.9\"><span class=\"toc-item-num\">1.9&nbsp;&nbsp;</span>Periodo de colocación de los anuncios</a></span></li><li><span><a href=\"#Precio-promedio-por-cada-tipo-de-vehículo\" data-toc-modified-id=\"Precio-promedio-por-cada-tipo-de-vehículo-1.10\"><span class=\"toc-item-num\">1.10&nbsp;&nbsp;</span>Precio promedio por cada tipo de vehículo</a></span></li><li><span><a href=\"#Factores-de-precio\" data-toc-modified-id=\"Factores-de-precio-1.11\"><span class=\"toc-item-num\">1.11&nbsp;&nbsp;</span>Factores de precio</a></span></li><li><span><a href=\"#Conclusión-general\" data-toc-modified-id=\"Conclusión-general-1.12\"><span class=\"toc-item-num\">1.12&nbsp;&nbsp;</span>Conclusión general</a></span></li></ul></li></ul></div>"
   ]
  },
  {
   "cell_type": "markdown",
   "metadata": {},
   "source": [
    "# ¿Qué vende un coche?\n",
    "\n",
    "Eres un analista en Crankshaft List. Cientos de anuncios gratuitos de vehículos se publican en tu sitio web cada día. Necesitas estudiar los datos recopilados durante los últimos años y determinar qué factores influyen en el precio de un vehículo."
   ]
  },
  {
   "cell_type": "markdown",
   "metadata": {},
   "source": [
    "## Inicialización"
   ]
  },
  {
   "cell_type": "code",
   "execution_count": 1,
   "metadata": {},
   "outputs": [
    {
     "ename": "ModuleNotFoundError",
     "evalue": "No module named 'matplotlib'",
     "output_type": "error",
     "traceback": [
      "\u001b[1;31m---------------------------------------------------------------------------\u001b[0m",
      "\u001b[1;31mModuleNotFoundError\u001b[0m                       Traceback (most recent call last)",
      "Cell \u001b[1;32mIn[1], line 5\u001b[0m\n\u001b[0;32m      3\u001b[0m \u001b[38;5;28;01mimport\u001b[39;00m \u001b[38;5;21;01mpandas\u001b[39;00m \u001b[38;5;28;01mas\u001b[39;00m \u001b[38;5;21;01mpd\u001b[39;00m\n\u001b[0;32m      4\u001b[0m \u001b[38;5;28;01mimport\u001b[39;00m \u001b[38;5;21;01mnumpy\u001b[39;00m \u001b[38;5;28;01mas\u001b[39;00m \u001b[38;5;21;01mnp\u001b[39;00m\n\u001b[1;32m----> 5\u001b[0m \u001b[38;5;28;01mimport\u001b[39;00m \u001b[38;5;21;01mmatplotlib\u001b[39;00m\u001b[38;5;21;01m.\u001b[39;00m\u001b[38;5;21;01mpyplot\u001b[39;00m \u001b[38;5;28;01mas\u001b[39;00m \u001b[38;5;21;01mplt\u001b[39;00m\n\u001b[0;32m      6\u001b[0m \u001b[38;5;28;01mimport\u001b[39;00m \u001b[38;5;21;01mseaborn\u001b[39;00m \u001b[38;5;28;01mas\u001b[39;00m \u001b[38;5;21;01msns\u001b[39;00m\n",
      "\u001b[1;31mModuleNotFoundError\u001b[0m: No module named 'matplotlib'"
     ]
    }
   ],
   "source": [
    "# Cargar todas las librerías\n",
    "\n",
    "import pandas as pd\n",
    "import numpy as np\n",
    "import matplotlib.pyplot as plt\n",
    "import seaborn as sns"
   ]
  },
  {
   "cell_type": "markdown",
   "metadata": {},
   "source": [
    "### Cargar datos"
   ]
  },
  {
   "cell_type": "code",
   "execution_count": null,
   "metadata": {},
   "outputs": [],
   "source": [
    "# Carga el archivo de datos en un DataFrame\n",
    "data = pd.read_csv('/datasets/vehicles_us.csv')\n"
   ]
  },
  {
   "cell_type": "markdown",
   "metadata": {},
   "source": [
    "### Explorar datos iniciales"
   ]
  },
  {
   "cell_type": "markdown",
   "metadata": {},
   "source": [
    "El dataset contiene los siguientes campos:\n",
    "- `price` - precio del vehículo\n",
    "- `model_year` - año del modelo de vehículo\n",
    "- `model` - modelo del vehículo\n",
    "- `condition` - condicion del vehiculo\n",
    "- `cylinders` - cilindraje del vehículo\n",
    "- `fuel` — gasolina, diesel, etc.\n",
    "- `odometer` — el millaje del vehículo cuando el anuncio fue publicado\n",
    "- `transmission` - tipo de transmisión de vehículo\n",
    "- `paint_color` - color de vehículo\n",
    "- `is_4wd` — si el vehículo tiene tracción a las 4 ruedas (tipo Booleano)\n",
    "- `date_posted` — la fecha en la que el anuncio fue publicado\n",
    "- `days_listed` — desde la publicación hasta que se elimina\n",
    "\n"
   ]
  },
  {
   "cell_type": "code",
   "execution_count": null,
   "metadata": {},
   "outputs": [],
   "source": [
    "# imprime la información general/resumida sobre el DataFrame\n",
    "\n",
    "data.info()"
   ]
  },
  {
   "cell_type": "markdown",
   "metadata": {},
   "source": [
    "Basado en los tipos de datos se detecta que 'date_posted' debería encontrarse en formato de fecha, 'is_4wd'debería encontrarse como variable booleana, 'model_year' y 'cylinder' debería ser una variable tipo 'int'. "
   ]
  },
  {
   "cell_type": "code",
   "execution_count": null,
   "metadata": {},
   "outputs": [],
   "source": [
    "# imprimir una muestra de datos\n",
    "data.head(10)\n"
   ]
  },
  {
   "cell_type": "markdown",
   "metadata": {},
   "source": [
    "Como se puede observar en la tabla existen datos ausentes en la columna 'model_year', 'cylinder', 'odometer', 'paint_color', 'is_4wd'. "
   ]
  },
  {
   "cell_type": "code",
   "execution_count": null,
   "metadata": {},
   "outputs": [],
   "source": [
    "100*data.isna().sum()/data.shape[0]"
   ]
  },
  {
   "cell_type": "markdown",
   "metadata": {},
   "source": [
    "Se observa que existe una ausencia de: <br> \n",
    "7% en 'model_year', <br>\n",
    "10% en 'cylinders', <br>\n",
    "15% en 'odometer', <br>\n",
    "17% en 'paint_color', <br>\n",
    "50% en 'is_4wd'"
   ]
  },
  {
   "cell_type": "code",
   "execution_count": null,
   "metadata": {},
   "outputs": [],
   "source": [
    "data.duplicated().sum()"
   ]
  },
  {
   "cell_type": "markdown",
   "metadata": {},
   "source": [
    "Se comprueba que no existe datos duplicados en la base original."
   ]
  },
  {
   "cell_type": "markdown",
   "metadata": {},
   "source": [
    "### Conclusiones y siguientes pasos\n",
    "\n",
    "Se logró observar que los datos comprenden cierta cantidad de datos ausentes. En mayor porcentaje de ausencia la variable 'is_4d', para la cual se realizará el respectivo tratamiento de la variable, así como de sus consecutivos en asuencia. El objetivo de identificar aquellos datos con ausencia de datos nos permite realizar un procesamiento de los mismos, antes de continuar con un análisis y concluir con el factor que afecta el precio de venta de los vehículos."
   ]
  },
  {
   "cell_type": "markdown",
   "metadata": {},
   "source": [
    "## Tratar los valores ausentes (si hay)"
   ]
  },
  {
   "cell_type": "markdown",
   "metadata": {},
   "source": [
    "### Reemplazo de ausentes en 'is_4wd'"
   ]
  },
  {
   "cell_type": "code",
   "execution_count": null,
   "metadata": {
    "scrolled": true
   },
   "outputs": [],
   "source": [
    "def reemplazar(row):\n",
    "    is_4wd = row['is_4wd']\n",
    "    if pd.isna(is_4wd)==True:\n",
    "        return 0\n",
    "    else:\n",
    "        return  is_4wd\n",
    "    \n",
    "data['is_4wd'] = data.apply(reemplazar, axis=1)\n",
    "\n",
    "data.info()\n",
    "print()\n",
    "data.head()"
   ]
  },
  {
   "cell_type": "markdown",
   "metadata": {},
   "source": [
    "Se reemplazó los valores ausentes de la columna 'is_4wd' donde todos los ausentes se asumió como que dichos vehículos no cuentan con tracción en las 4 ruedas.\n"
   ]
  },
  {
   "cell_type": "markdown",
   "metadata": {},
   "source": [
    "Se asume que:\n",
    "    1. El año del modelo del vehículo está relacionado al modelo. \n",
    "    2. El cilindraje se conoce que depende del tipo de vehículo.\n",
    "    3. El kilometraje se relaciona al tiempo o tipo de vehículo. \n",
    "    4. No se observa relación de la variable 'paint_color' con otra variable de la tabla. "
   ]
  },
  {
   "cell_type": "markdown",
   "metadata": {},
   "source": [
    "### Reemplazo de ausentes en 'model_year'"
   ]
  },
  {
   "cell_type": "code",
   "execution_count": null,
   "metadata": {},
   "outputs": [],
   "source": [
    "print(data['model_year'].mean().astype(int))\n",
    "print(data['model_year'].median())\n",
    "print()\n",
    "print(data['model_year'].hist(bins=50, range=(1950,2022)))"
   ]
  },
  {
   "cell_type": "code",
   "execution_count": null,
   "metadata": {},
   "outputs": [],
   "source": [
    "print(data.boxplot('model_year'))\n",
    "plt.ylim(1950,2022)"
   ]
  },
  {
   "cell_type": "markdown",
   "metadata": {},
   "source": [
    "Se observa cierta cantidad de valores aberrantes que se detectan con facilidad con el diagrama de cajas, estos mismos salen de los bigotes del diagrama. El efecto de los datos aberrantes es imperceptible sobre la mediana a diferencia de la media aritmética que se ve afectada de manera notoria. Es por ello que la media aritmética no es la mejor medida de tendencia central en este caso. "
   ]
  },
  {
   "cell_type": "code",
   "execution_count": null,
   "metadata": {},
   "outputs": [],
   "source": [
    "data.loc[data['model_year'].isna()].head()"
   ]
  },
  {
   "cell_type": "markdown",
   "metadata": {},
   "source": [
    "A continuación y basado en el análisis se agrupará los datos por modelo de vehículo y se calculará la mediana de año del modelo. Para posteriormente realizar el reemplazo de valores ausentes."
   ]
  },
  {
   "cell_type": "code",
   "execution_count": null,
   "metadata": {},
   "outputs": [],
   "source": [
    "#Agrupar usando a mediana de model year \n",
    "model_median_grouped = data.groupby('model')['model_year'].median()\n",
    "print(model_median_grouped)"
   ]
  },
  {
   "cell_type": "markdown",
   "metadata": {},
   "source": [
    "A partir de una función se utilizará parte de los datos anteriores agrupados para realizar el reemplazo de valores ausentes por el año del modelo de vehículo respectivo. "
   ]
  },
  {
   "cell_type": "code",
   "execution_count": null,
   "metadata": {},
   "outputs": [],
   "source": [
    "#Función para eliminar los datos ausentes de'model_year'\n",
    "def reemplazar_model_year(row):\n",
    "    model_year= row['model_year']\n",
    "    if pd.isna(model_year)==True:\n",
    "        return model_median_grouped[row['model']]\n",
    "    else:\n",
    "        return model_year\n",
    "data['model_year']= data.apply(reemplazar_model_year, axis= 1)"
   ]
  },
  {
   "cell_type": "markdown",
   "metadata": {},
   "source": [
    "Recordando que en un principio se mostró las primeras 10 filas de una tabla, y la fila 1 contenía un dato ausente en año del vehículo, se lo mostrará a en breve para observar como ahora contiene un valor basado en la función utilizada."
   ]
  },
  {
   "cell_type": "code",
   "execution_count": null,
   "metadata": {},
   "outputs": [],
   "source": [
    "print(data.iloc[1])"
   ]
  },
  {
   "cell_type": "markdown",
   "metadata": {},
   "source": [
    "### Reemplazar datos ausentes de cylinders"
   ]
  },
  {
   "cell_type": "markdown",
   "metadata": {},
   "source": [
    "A continuación, se utilizará como referencia el tipo de vehículo para conocer el cilindraje de cada uno y encontrar así la relación de dichos datos. "
   ]
  },
  {
   "cell_type": "code",
   "execution_count": null,
   "metadata": {},
   "outputs": [],
   "source": [
    "\n",
    "data.loc[data['cylinders'].isna()]['type'].sort_values(ascending=True).hist(bins=30)\n",
    "plt.xticks(rotation = 30)"
   ]
  },
  {
   "cell_type": "code",
   "execution_count": null,
   "metadata": {},
   "outputs": [],
   "source": [
    "# Analizamos la mediana y media de la data en general segun cylinders\n",
    "print(data['cylinders'].mean().astype(int))\n",
    "print(data['cylinders'].median())"
   ]
  },
  {
   "cell_type": "markdown",
   "metadata": {},
   "source": [
    "En este caso, tanto la media como la mediana son iguales. Por tando la tendencia central de cilindraje es 6. Se creará un diccionario que relacione el cilindraje con el tipo de vehículo, lo cual nos será util para reemplazar los valores ausentes. "
   ]
  },
  {
   "cell_type": "code",
   "execution_count": null,
   "metadata": {},
   "outputs": [],
   "source": [
    "#Creamos un diccionario que nos permita obtener el promedio de cilindraje según el tipo de vehículo \n",
    "cylinders_mean = (data.\n",
    "                 pivot_table(index='type', values= 'cylinders', aggfunc= 'mean')\n",
    "                 .astype(int)\n",
    "                 .to_dict()\n",
    "                 )\n",
    "print(cylinders_mean)"
   ]
  },
  {
   "cell_type": "code",
   "execution_count": null,
   "metadata": {},
   "outputs": [],
   "source": [
    "cylinders_mean = cylinders_mean['cylinders']\n",
    "cylinders_mean"
   ]
  },
  {
   "cell_type": "markdown",
   "metadata": {},
   "source": [
    "Se observa que los vehiculos de carga pesada como el bus y camion tienen un cilindraje mayor a aquellos vehiculos pequeños o de baja capacidad como un SUV. "
   ]
  },
  {
   "cell_type": "code",
   "execution_count": null,
   "metadata": {},
   "outputs": [],
   "source": [
    "data['cylinders']=data['cylinders'].fillna(data['type'].map(cylinders_mean))"
   ]
  },
  {
   "cell_type": "markdown",
   "metadata": {},
   "source": [
    "Recordando la fila 9 de la tabla mostrada en un inicio, existia una ausencia de valor de cilindraje. "
   ]
  },
  {
   "cell_type": "code",
   "execution_count": null,
   "metadata": {},
   "outputs": [],
   "source": [
    "data.iloc[9]"
   ]
  },
  {
   "cell_type": "markdown",
   "metadata": {},
   "source": [
    "Se observa que el reemplazo de valor ausente es correcto, un SUV tiene un cilindraje de 5.0"
   ]
  },
  {
   "cell_type": "code",
   "execution_count": null,
   "metadata": {},
   "outputs": [],
   "source": [
    "data.info()"
   ]
  },
  {
   "cell_type": "markdown",
   "metadata": {},
   "source": [
    "Se comprueba que no existen más valores ausentes en la columna 'cylinders'"
   ]
  },
  {
   "cell_type": "markdown",
   "metadata": {},
   "source": [
    "### Reemplazar datos ausentes en odometer\n"
   ]
  },
  {
   "cell_type": "markdown",
   "metadata": {},
   "source": [
    "A continuación se evalúa las millas recorridas, basado en el año del modelo del vehículo."
   ]
  },
  {
   "cell_type": "code",
   "execution_count": null,
   "metadata": {},
   "outputs": [],
   "source": [
    "\n",
    "data.loc[data['odometer'].isna()]['model_year'].sort_values(ascending=True).hist(bins=30, range=(1980,2022))\n"
   ]
  },
  {
   "cell_type": "code",
   "execution_count": null,
   "metadata": {},
   "outputs": [],
   "source": [
    "#Analizamos los datos generales de odometer\n",
    "print(data['odometer'].mean())\n",
    "print(data['odometer'].median())\n"
   ]
  },
  {
   "cell_type": "code",
   "execution_count": null,
   "metadata": {},
   "outputs": [],
   "source": [
    "print(data['odometer'].hist(bins=10, range = (0,400000)))\n",
    "plt.xticks(rotation = 30)"
   ]
  },
  {
   "cell_type": "code",
   "execution_count": null,
   "metadata": {},
   "outputs": [],
   "source": [
    "print(data['odometer'].mean())\n",
    "print(data['odometer'].median())\n",
    "print(data['odometer'].hist(bins=10, range = (0,400000)))\n",
    "plt.xticks(rotation = 30)"
   ]
  },
  {
   "cell_type": "code",
   "execution_count": null,
   "metadata": {},
   "outputs": [],
   "source": [
    "print(data.boxplot('odometer'))\n"
   ]
  },
  {
   "cell_type": "markdown",
   "metadata": {},
   "source": [
    "Podemos observar que los valores de millaje recorrido comprende valores aberrantes a la alta. Lo cual provoca un crecimiento en el valor de la media que se obtenga de todos los datos. Debido a este factor, lo más adecuado para un reemplazo de valores ausentes es utilizar la mediana como medida de tendencia central.A continuación se agrupa segun la condición del automóvil el millaje de los vehículos."
   ]
  },
  {
   "cell_type": "code",
   "execution_count": null,
   "metadata": {},
   "outputs": [],
   "source": [
    "#Agrupar usando a mediana de model year \n",
    "odometer_median_grouped = data.groupby('condition')['odometer'].median()\n",
    "print(odometer_median_grouped)"
   ]
  },
  {
   "cell_type": "code",
   "execution_count": null,
   "metadata": {},
   "outputs": [],
   "source": [
    "#Función para eliminar los datos ausentes de'model_year'\n",
    "def reemplazar_odometer(row):\n",
    "    odometer = row['odometer']\n",
    "    if pd.isna(odometer)==True:\n",
    "        return odometer_median_grouped[row['condition']]\n",
    "    else:\n",
    "        return odometer\n",
    "data['odometer']= data.apply(reemplazar_odometer, axis= 1)"
   ]
  },
  {
   "cell_type": "code",
   "execution_count": null,
   "metadata": {},
   "outputs": [],
   "source": [
    "print(data.iloc[3])"
   ]
  },
  {
   "cell_type": "code",
   "execution_count": null,
   "metadata": {},
   "outputs": [],
   "source": [
    "data.info()"
   ]
  },
  {
   "cell_type": "markdown",
   "metadata": {},
   "source": [
    "Se comprueba que la columna 'odometer' no contiene datos ausentes."
   ]
  },
  {
   "cell_type": "markdown",
   "metadata": {},
   "source": [
    "### Reemplazar datos ausentes en paint color"
   ]
  },
  {
   "cell_type": "code",
   "execution_count": null,
   "metadata": {},
   "outputs": [],
   "source": [
    "data['paint_color'] = data['paint_color'].fillna('No conocido')"
   ]
  },
  {
   "cell_type": "code",
   "execution_count": null,
   "metadata": {},
   "outputs": [],
   "source": [
    "print(data.iloc[0])"
   ]
  },
  {
   "cell_type": "code",
   "execution_count": null,
   "metadata": {},
   "outputs": [],
   "source": [
    "data.info()"
   ]
  },
  {
   "cell_type": "markdown",
   "metadata": {},
   "source": [
    "Como se observa, hemos eliminado todos los valores ausentes y reemplazados a valores que sean pertinentes para cada caso. "
   ]
  },
  {
   "cell_type": "markdown",
   "metadata": {},
   "source": [
    "## Corregir los tipos de datos"
   ]
  },
  {
   "cell_type": "code",
   "execution_count": null,
   "metadata": {},
   "outputs": [],
   "source": [
    "data['date_posted'] = pd.to_datetime(data['date_posted'],format='%Y.%m.%d')\n",
    "data['cylinders'] = data['cylinders'].astype('int')\n",
    "data['model_year'] = data['model_year'].astype('int')\n",
    "data['paint_color'].astype('str')\n",
    "\n",
    "data.info()"
   ]
  },
  {
   "cell_type": "markdown",
   "metadata": {},
   "source": [
    "Se transformó correctamente los tipos de datos según corresponde. La fecha de publicación paso de ser un tipo de dato objeto a fecha, el cilindraje ahora es un número entero, el año del modelo pasó a ser entero, y el color de pintura un tipo de dato str.  \n"
   ]
  },
  {
   "cell_type": "markdown",
   "metadata": {},
   "source": [
    "## Enriquecer datos"
   ]
  },
  {
   "cell_type": "markdown",
   "metadata": {},
   "source": [
    "A continuación se añade datos adicionales a la tabla para facilitar el análisis. "
   ]
  },
  {
   "cell_type": "code",
   "execution_count": null,
   "metadata": {},
   "outputs": [],
   "source": [
    "# Agrega valores de fecha y hora para cuando se colocó el anuncio\n",
    "data['hour_posted'] = data['date_posted'].dt.hour\n"
   ]
  },
  {
   "cell_type": "code",
   "execution_count": null,
   "metadata": {},
   "outputs": [],
   "source": [
    "# Agrega los años del vehículo cuando el anuncio se colocó\n",
    "\n",
    "data['year_posted'] = data['date_posted'].dt.year"
   ]
  },
  {
   "cell_type": "code",
   "execution_count": null,
   "metadata": {},
   "outputs": [],
   "source": [
    "# Agrega el millaje promedio del vehículo por año\n",
    "\n",
    "data['edad_vehículo'] = (data['year_posted']-data['model_year'])\n",
    "data['millaje_promedio']=data['odometer']/data['edad_vehículo']\n",
    "data['millaje_promedio'] = data['millaje_promedio'].fillna(data['odometer'])\n",
    "data.head(3)"
   ]
  },
  {
   "cell_type": "code",
   "execution_count": null,
   "metadata": {},
   "outputs": [],
   "source": [
    "data['condition'].unique()"
   ]
  },
  {
   "cell_type": "code",
   "execution_count": null,
   "metadata": {},
   "outputs": [],
   "source": [
    "# Podría ser útil reemplazar los valores de condición con algo que se pueda manipular más fácilmente\n",
    "data['condition'].replace('salvage','0',inplace=True)\n",
    "data['condition'].replace('fair','1',inplace=True)\n",
    "data['condition'].replace('good','2',inplace=True)\n",
    "data['condition'].replace('excellent','3',inplace=True)\n",
    "data['condition'].replace('like new','4',inplace=True)\n",
    "data['condition'].replace('new','5',inplace=True)\n",
    "\n",
    "\n",
    "\n",
    "data['condition'] = data['condition'].astype('int')"
   ]
  },
  {
   "cell_type": "code",
   "execution_count": null,
   "metadata": {},
   "outputs": [],
   "source": [
    "data.head(3)"
   ]
  },
  {
   "cell_type": "markdown",
   "metadata": {},
   "source": [
    "En esta sección se transforma los datos según el tipo apropiado para la facilidad y buen procesamiento de los datos. Adicionalmente se convierte la varible categorica condición a numérica para facilidad de análisis en las próximas secciones."
   ]
  },
  {
   "cell_type": "markdown",
   "metadata": {},
   "source": [
    "## Comprobar datos limpios"
   ]
  },
  {
   "cell_type": "code",
   "execution_count": null,
   "metadata": {
    "scrolled": true
   },
   "outputs": [],
   "source": [
    "# imprime la información general/resumida sobre el DataFrame\n",
    "data.info()\n"
   ]
  },
  {
   "cell_type": "code",
   "execution_count": null,
   "metadata": {},
   "outputs": [],
   "source": [
    "# imprimir una muestra de datos\n",
    "\n",
    "data.head(5)"
   ]
  },
  {
   "cell_type": "markdown",
   "metadata": {},
   "source": [
    "## Estudiar parámetros principales\n",
    "\n",
    "Se elige un enfoque apropiado para estudiar los parámetros enumerados a continuación:\n",
    "\n",
    "Los parámetros son:\n",
    "- Precio\n",
    "- Los años del vehículo cuando el anuncio se colocó\n",
    "- Millaje\n",
    "- Número de cilindros\n",
    "- Estado"
   ]
  },
  {
   "cell_type": "markdown",
   "metadata": {},
   "source": [
    "Se realizará una función que facilite el análisis de cada parámetro."
   ]
  },
  {
   "cell_type": "code",
   "execution_count": null,
   "metadata": {},
   "outputs": [],
   "source": [
    "#\n",
    "parameters = ['price', 'edad_vehículo', 'odometer', 'cylinders', 'condition']\n",
    "def analisis(parameter):\n",
    "    print(data[parameter].describe())\n",
    "    print()\n",
    "    print(data[parameter].plot(kind='hist', bins = 100, figsize = (15,5), title= parameter))\n",
    "    \n",
    "\n"
   ]
  },
  {
   "cell_type": "code",
   "execution_count": null,
   "metadata": {},
   "outputs": [],
   "source": [
    "#\n",
    "print(analisis('price'))\n"
   ]
  },
  {
   "cell_type": "code",
   "execution_count": null,
   "metadata": {},
   "outputs": [],
   "source": [
    "#\n",
    "\n",
    "print(analisis('edad_vehículo'))"
   ]
  },
  {
   "cell_type": "code",
   "execution_count": null,
   "metadata": {},
   "outputs": [],
   "source": [
    "#\n",
    "print(analisis('odometer'))\n",
    "\n"
   ]
  },
  {
   "cell_type": "code",
   "execution_count": null,
   "metadata": {},
   "outputs": [],
   "source": [
    "#\n",
    "\n",
    "print(analisis('cylinders'))"
   ]
  },
  {
   "cell_type": "markdown",
   "metadata": {},
   "source": [
    "En esta sección se observa la automatización de los histogramas mediante la definción de una función, y se visualiza alta dispersión de los datos. Siendo así se evalua en la siguiente sección aquellos datos atípicos o también llamados datos aberrantes. "
   ]
  },
  {
   "cell_type": "markdown",
   "metadata": {},
   "source": [
    "## Estudiar y tratar valores atípicos\n",
    "\n",
    "Se determina qué columnas pueden contener valores atípicos y se crea un DataFrame sin esos valores atípicos. "
   ]
  },
  {
   "cell_type": "code",
   "execution_count": null,
   "metadata": {},
   "outputs": [],
   "source": [
    "# Determina los límites inferiores para valores atípicos\n",
    "\n",
    "def limites(parameter):\n",
    "    q1 = data[parameter].quantile(0.25)\n",
    "    q3 = data[parameter].quantile(0.75)\n",
    "    iqr = q3 - q1\n",
    "    ls = q3 + 1.5 * iqr\n",
    "    li = q1 - 1.5 * iqr\n",
    "    limites = (li, ls)\n",
    "    data.boxplot(parameter)\n",
    "    return limites\n",
    "    "
   ]
  },
  {
   "cell_type": "code",
   "execution_count": null,
   "metadata": {},
   "outputs": [],
   "source": [
    "# Determinar los límites superiores para valores atípicos\n",
    "\n",
    "print(limites('price'))\n",
    "plt.ylim = (-100, 400000)\n",
    "plt.hlines (y = 34597 , xmin = 0.9, xmax=1.1 , color='red')\n"
   ]
  },
  {
   "cell_type": "code",
   "execution_count": null,
   "metadata": {},
   "outputs": [],
   "source": [
    "# Almacena los datos sin valores atípicos en un DataFrame separado\n",
    "\n",
    "print(limites('edad_vehículo'))\n",
    "\n",
    "plt.hlines (y = 24 , xmin = 0.9, xmax=1.1 , color='red')\n",
    "\n"
   ]
  },
  {
   "cell_type": "code",
   "execution_count": null,
   "metadata": {},
   "outputs": [],
   "source": [
    "\n",
    "print(limites('odometer'))\n",
    "\n",
    "plt.hlines (y = 256050 , xmin = 0.9, xmax=1.1 , color='red')\n"
   ]
  },
  {
   "cell_type": "markdown",
   "metadata": {},
   "source": [
    "Se observa que la variable precio, odometer y edad del vehículo cuentan con valores atípicos que se encuentran fuera de la caja de bigotes. Con un línea roja se detalla el punto crítico desde donde empiezan los valores aberrantes de los datos. "
   ]
  },
  {
   "cell_type": "markdown",
   "metadata": {},
   "source": [
    "## Estudiar parámetros principales sin valores atípicos"
   ]
  },
  {
   "cell_type": "markdown",
   "metadata": {},
   "source": [
    "Se utiliza los datos filtrados para crear nuevos histogramas. Se compara con los histogramas anteriores (aquellos con los valores atípicos incluidos). De allí se obtendrá interesantes conclusiones. "
   ]
  },
  {
   "cell_type": "code",
   "execution_count": null,
   "metadata": {},
   "outputs": [],
   "source": [
    "data_sin_atipicos = data.loc[(data['price']<34597) & (data['odometer']<256050) & (data['edad_vehículo']<24) ]"
   ]
  },
  {
   "cell_type": "code",
   "execution_count": null,
   "metadata": {},
   "outputs": [],
   "source": [
    "data_sin_atipicos.info()"
   ]
  },
  {
   "cell_type": "code",
   "execution_count": null,
   "metadata": {},
   "outputs": [],
   "source": [
    "parameters = ['price', 'edad_vehículo', 'odometer', 'cylinders', 'condition']\n",
    "def analisis2(parameter):\n",
    "    print (data_sin_atipicos[parameter].describe())\n",
    "    print()\n",
    "    print (data_sin_atipicos[parameter].plot(kind='hist', bins = 100, figsize = (15,5), title = parameter))"
   ]
  },
  {
   "cell_type": "code",
   "execution_count": null,
   "metadata": {},
   "outputs": [],
   "source": [
    "analisis('price')\n",
    "plt.xlim(0,55000)"
   ]
  },
  {
   "cell_type": "code",
   "execution_count": null,
   "metadata": {},
   "outputs": [],
   "source": [
    "analisis2('price')\n",
    "plt.xlim(0,55000)"
   ]
  },
  {
   "cell_type": "code",
   "execution_count": null,
   "metadata": {},
   "outputs": [],
   "source": [
    "analisis('odometer')\n",
    "plt.xlim(0,990000)"
   ]
  },
  {
   "cell_type": "code",
   "execution_count": null,
   "metadata": {},
   "outputs": [],
   "source": [
    "analisis2('odometer')\n",
    "plt.xlim(0,990000)"
   ]
  },
  {
   "cell_type": "code",
   "execution_count": null,
   "metadata": {},
   "outputs": [],
   "source": [
    "analisis('edad_vehículo')\n",
    "plt.xlim(0,110)"
   ]
  },
  {
   "cell_type": "code",
   "execution_count": null,
   "metadata": {},
   "outputs": [],
   "source": [
    "analisis2('edad_vehículo')\n",
    "plt.xlim(0,110)"
   ]
  },
  {
   "cell_type": "markdown",
   "metadata": {},
   "source": [
    "En las distintas gráficas presentadas en esta sección se visualiza como la dispesión de los datos disminuye, así como la frecuencia de las mismas. "
   ]
  },
  {
   "cell_type": "markdown",
   "metadata": {},
   "source": [
    "## Periodo de colocación de los anuncios\n",
    "A continuación: \n",
    "Se estudia cuántos días los anuncios fueron mostrados (`days_listed`). \n",
    "Se Calcula la media y la mediana de (`days_listed`). \n",
    "Se Describe el periodo de colocación habitual de un anuncio.\n",
    "Se determina cuándo se eliminaron rápidamente los anuncios y cuándo son publicados por un tiempo anormalmente largo."
   ]
  },
  {
   "cell_type": "code",
   "execution_count": null,
   "metadata": {},
   "outputs": [],
   "source": [
    "data.describe()"
   ]
  },
  {
   "cell_type": "code",
   "execution_count": null,
   "metadata": {},
   "outputs": [],
   "source": [
    "def fix_days_listed(row):\n",
    "    if data['days_listed']<=5:\n",
    "        return 'Menos de 5 días'\n",
    "    elif data['days_listed']<=100:\n",
    "        return 'Entre 5 y 100 dias'\n",
    "    else:\n",
    "        return 'Mayor a 100 dias'"
   ]
  },
  {
   "cell_type": "code",
   "execution_count": null,
   "metadata": {},
   "outputs": [],
   "source": [
    "data['analisis_dias_public'] = data.apply(fix_days_listed, axis = 1)"
   ]
  },
  {
   "cell_type": "code",
   "execution_count": null,
   "metadata": {},
   "outputs": [],
   "source": [
    "data_fast_post= data[data['days_listed']<5]"
   ]
  },
  {
   "cell_type": "code",
   "execution_count": null,
   "metadata": {},
   "outputs": [],
   "source": [
    "#Anuncios eliminados rapido\n",
    "data_fast_post.plot(x='days_listed', y='condition', kind='hexbin', gridsize= 8, sharex=False, grid=True)"
   ]
  },
  {
   "cell_type": "code",
   "execution_count": null,
   "metadata": {},
   "outputs": [],
   "source": [
    "data_fast_post.plot(x='days_listed', y='price', kind='hexbin', gridsize= 15, sharex=False, grid=True)"
   ]
  },
  {
   "cell_type": "code",
   "execution_count": null,
   "metadata": {},
   "outputs": [],
   "source": [
    "data_fast_post.plot(x='days_listed', y='odometer', kind='hexbin', gridsize= 8, sharex=False, grid=True)"
   ]
  },
  {
   "cell_type": "code",
   "execution_count": null,
   "metadata": {},
   "outputs": [],
   "source": [
    "data_long_post= data[data['days_listed']>100]"
   ]
  },
  {
   "cell_type": "code",
   "execution_count": null,
   "metadata": {},
   "outputs": [],
   "source": [
    "data_long_post.plot(x='days_listed', y='price', kind='hexbin', gridsize= 15, sharex=False, grid=True)"
   ]
  },
  {
   "cell_type": "code",
   "execution_count": null,
   "metadata": {},
   "outputs": [],
   "source": [
    "data_long_post.plot(x='days_listed', y='condition', kind='hexbin', gridsize= 8, sharex=False, grid=True)"
   ]
  },
  {
   "cell_type": "code",
   "execution_count": null,
   "metadata": {},
   "outputs": [],
   "source": [
    "data_long_post.plot(x='days_listed', y='odometer', kind='hexbin', gridsize= 8, sharex=False, grid=True)"
   ]
  },
  {
   "cell_type": "code",
   "execution_count": null,
   "metadata": {},
   "outputs": [],
   "source": [
    "data.head()"
   ]
  },
  {
   "cell_type": "markdown",
   "metadata": {},
   "source": [
    "Se observa que:<br>\n",
    "Los vehículos que son publicados pocos días en internet con el fin de venta son aquellos con una condición excelente, con precios menores a 10 mil dólares, con poco recorrido. <br>\n",
    "Los vehículos que permanecen publicados por mucho tiempo en internet son aquellos con una condición buena o rescatable, con un millaje mayor a 100,000 millas y con un precio mayor a $12500.\n"
   ]
  },
  {
   "cell_type": "markdown",
   "metadata": {},
   "source": [
    "## Precio promedio por cada tipo de vehículo"
   ]
  },
  {
   "cell_type": "markdown",
   "metadata": {},
   "source": [
    "A continuación:\n",
    "Se analiza el número de anuncios y el precio promedio para cada tipo de vehículo. \n",
    "Se traza un gráfico mostrando la dependencia de la cantidad de anuncios en cada tipo de vehículo.\n",
    "Se Selecciona los dos tipos con un mayor número de anuncios.\n"
   ]
  },
  {
   "cell_type": "code",
   "execution_count": null,
   "metadata": {},
   "outputs": [],
   "source": [
    "data_group = data.groupby('type').agg({'price': ['count','mean']})\n"
   ]
  },
  {
   "cell_type": "code",
   "execution_count": null,
   "metadata": {},
   "outputs": [],
   "source": [
    "data_group"
   ]
  },
  {
   "cell_type": "code",
   "execution_count": null,
   "metadata": {},
   "outputs": [],
   "source": [
    "data_group.describe()"
   ]
  },
  {
   "cell_type": "code",
   "execution_count": null,
   "metadata": {},
   "outputs": [],
   "source": [
    "data_group.info()"
   ]
  },
  {
   "cell_type": "code",
   "execution_count": null,
   "metadata": {},
   "outputs": [],
   "source": [
    "data_group.corr()"
   ]
  },
  {
   "cell_type": "code",
   "execution_count": null,
   "metadata": {},
   "outputs": [],
   "source": [
    "pd.plotting.scatter_matrix(data_group, figsize=(9,9))"
   ]
  },
  {
   "cell_type": "markdown",
   "metadata": {},
   "source": [
    "La relación entre el precio promedio del vehículo y la cantidad de anuncios es muy baja."
   ]
  },
  {
   "cell_type": "code",
   "execution_count": null,
   "metadata": {},
   "outputs": [],
   "source": [
    "data['cylinders'].value_counts().plot(kind='bar')"
   ]
  },
  {
   "cell_type": "code",
   "execution_count": null,
   "metadata": {},
   "outputs": [],
   "source": [
    "data['condition'].value_counts().plot(kind='bar')"
   ]
  },
  {
   "cell_type": "code",
   "execution_count": null,
   "metadata": {},
   "outputs": [],
   "source": [
    "data['days_listed'].value_counts().plot(kind='bar')"
   ]
  },
  {
   "cell_type": "code",
   "execution_count": null,
   "metadata": {},
   "outputs": [],
   "source": [
    "data['transmission'].value_counts().plot(kind='bar')"
   ]
  },
  {
   "cell_type": "code",
   "execution_count": null,
   "metadata": {},
   "outputs": [],
   "source": [
    "data['paint_color'].value_counts().plot(kind='bar')"
   ]
  },
  {
   "cell_type": "markdown",
   "metadata": {},
   "source": [
    "Los dos tipos de vehículo con mayor cantidad de publicaciones de venta son los SUV y los Truck."
   ]
  },
  {
   "cell_type": "markdown",
   "metadata": {},
   "source": [
    "## Factores de precio"
   ]
  },
  {
   "cell_type": "markdown",
   "metadata": {},
   "source": [
    "A continuación:\n",
    "Se analizar que factores impactan más sobre el precio.\n",
    "Se toma en consideración las variables más populares detectadad. Se estudia si el precio depende de la edad, millaje, condición, tipo de transmisión y color. Para las variables categóricas (tipo de transmisión y color) se traza gráficos de caja y bigotes y se crea gráficos de dispersión para el resto. "
   ]
  },
  {
   "cell_type": "code",
   "execution_count": null,
   "metadata": {},
   "outputs": [],
   "source": [
    "data2 = data.drop(['model_year','cylinders','type', 'paint_color', 'is_4wd', 'date_posted', 'days_listed', 'hour_posted', 'year_posted','millaje_promedio'], axis=1)"
   ]
  },
  {
   "cell_type": "code",
   "execution_count": null,
   "metadata": {},
   "outputs": [],
   "source": [
    "data2.corr()"
   ]
  },
  {
   "cell_type": "code",
   "execution_count": null,
   "metadata": {},
   "outputs": [],
   "source": [
    "pd.plotting.scatter_matrix(data2, figsize=(9,9))"
   ]
  },
  {
   "cell_type": "markdown",
   "metadata": {},
   "source": [
    "Considerar que el coeficiente de correlación al ser positivo y cercano a 1 indica que existe una fuerte correlación positiva entre las dos variables de estudio, si el valor es cercano a 0 significa que no existe correlación entre las dos variables y si el valor es cercano a -1 entonces la correlación es negativamente fuerte. Una correlación no significa que dichas variables sean causa y efecto.  "
   ]
  },
  {
   "cell_type": "code",
   "execution_count": null,
   "metadata": {},
   "outputs": [],
   "source": [
    "\n",
    "sns.catplot(data=data, x=\"transmission\", y=\"price\", kind=\"box\")"
   ]
  },
  {
   "cell_type": "code",
   "execution_count": null,
   "metadata": {},
   "outputs": [],
   "source": [
    "sns.catplot(data=data, x=\"paint_color\", y=\"price\", kind=\"box\")"
   ]
  },
  {
   "cell_type": "code",
   "execution_count": null,
   "metadata": {},
   "outputs": [],
   "source": [
    "data_sin_atipicos_2 = data_sin_atipicos.drop(['model_year','cylinders','type', 'paint_color', 'is_4wd', 'date_posted', 'days_listed', 'hour_posted', 'year_posted','millaje_promedio'], axis=1)"
   ]
  },
  {
   "cell_type": "code",
   "execution_count": null,
   "metadata": {},
   "outputs": [],
   "source": [
    "data_sin_atipicos_2.corr()"
   ]
  },
  {
   "cell_type": "code",
   "execution_count": null,
   "metadata": {},
   "outputs": [],
   "source": [
    "pd.plotting.scatter_matrix(data_sin_atipicos_2, figsize=(9,9))"
   ]
  },
  {
   "cell_type": "markdown",
   "metadata": {},
   "source": [
    "Se puede concluir: <br>\n",
    "    a mayor condición del vehículo, mayor es el precio del mismo. <br>\n",
    "    a mayor millaje recorrido por el vehículo, menor es el precio del mismo <br>\n",
    "    a mayor edad del vehículo, menor es el precio del mismo. <br>\n",
    "     <br>\n",
    "Se comparó la correlación tanto para los datos generales como para los datos sin valores atípicos. "
   ]
  },
  {
   "cell_type": "markdown",
   "metadata": {},
   "source": [
    "## Conclusión general\n"
   ]
  },
  {
   "cell_type": "markdown",
   "metadata": {},
   "source": [
    "En este proyecto se visualiza aspectos importantes como la manipulación de datos, procesamiento de datos, reemplazo de valores ausentes, detección de valores atípicos y encontrar patrones de correlación de aquellas variables que influencian en el precio final de un vehículo. <br>\n",
    "Se concluye que: <br>\n",
    "1. El precio de un vehículo está mayormente influenciado por: edad del vehículo.<br>\n",
    "2. El modelo de vehículo más anunciado es: Ford F-150\n",
    "3. La mayoría de los vehículos tienen una condición: excelente (3)\n",
    "4. La mayor parte de los vehículos cuentan con un cilindraje de: 6 cilindros\n",
    "5. La mayor parte de los vehículos permanecen publicados en internet durante:  39.5 días \n",
    "6. La mayoría de los vehículos son de transmisión: automático\n",
    "7. La mayor parte de los vehículos son de color: white\n",
    "8. La mayor parte de los vehículos son de tipo: SUV\n"
   ]
  }
 ],
 "metadata": {
  "ExecuteTimeLog": [
   {
    "duration": 828,
    "start_time": "2021-11-16T09:21:11.304Z"
   },
   {
    "duration": 893,
    "start_time": "2021-11-16T09:21:17.728Z"
   },
   {
    "duration": 1150,
    "start_time": "2021-11-16T09:21:29.568Z"
   },
   {
    "duration": 3,
    "start_time": "2021-11-16T09:24:14.495Z"
   },
   {
    "duration": 120,
    "start_time": "2021-11-16T09:24:46.630Z"
   },
   {
    "duration": 3,
    "start_time": "2021-11-16T09:28:27.882Z"
   },
   {
    "duration": 4,
    "start_time": "2021-11-16T09:29:54.281Z"
   },
   {
    "duration": 3,
    "start_time": "2021-11-16T09:30:45.936Z"
   },
   {
    "duration": 4,
    "start_time": "2021-11-16T09:31:06.300Z"
   },
   {
    "duration": 113,
    "start_time": "2021-11-16T09:31:37.208Z"
   },
   {
    "duration": 143,
    "start_time": "2021-11-16T09:31:48.656Z"
   },
   {
    "duration": 98,
    "start_time": "2021-11-16T09:31:55.678Z"
   },
   {
    "duration": 3,
    "start_time": "2021-11-16T09:32:08.535Z"
   },
   {
    "duration": 111,
    "start_time": "2021-11-16T09:32:10.120Z"
   },
   {
    "duration": 3,
    "start_time": "2021-11-16T09:32:15.732Z"
   },
   {
    "duration": 4,
    "start_time": "2021-11-16T09:32:29.423Z"
   },
   {
    "duration": 3,
    "start_time": "2021-11-16T10:03:03.074Z"
   },
   {
    "duration": 3,
    "start_time": "2021-11-16T10:10:01.288Z"
   },
   {
    "duration": 3,
    "start_time": "2021-11-16T10:10:46.923Z"
   },
   {
    "duration": 121,
    "start_time": "2021-11-16T10:37:46.494Z"
   },
   {
    "duration": 125,
    "start_time": "2021-11-16T10:38:20.632Z"
   },
   {
    "duration": 112,
    "start_time": "2021-11-16T10:46:53.001Z"
   },
   {
    "duration": 110,
    "start_time": "2021-11-16T10:48:25.775Z"
   },
   {
    "duration": 3,
    "start_time": "2021-11-16T10:50:18.720Z"
   },
   {
    "duration": 4,
    "start_time": "2021-11-16T10:50:37.649Z"
   },
   {
    "duration": 2,
    "start_time": "2021-11-16T10:50:51.884Z"
   },
   {
    "duration": 3,
    "start_time": "2021-11-16T10:51:56.237Z"
   },
   {
    "duration": 101,
    "start_time": "2021-11-16T10:53:13.791Z"
   },
   {
    "duration": 3,
    "start_time": "2021-11-16T10:55:59.186Z"
   },
   {
    "duration": 3,
    "start_time": "2021-11-16T10:56:10.751Z"
   },
   {
    "duration": 3,
    "start_time": "2021-11-16T10:56:49.038Z"
   },
   {
    "duration": 3,
    "start_time": "2021-11-16T10:56:49.174Z"
   },
   {
    "duration": 4,
    "start_time": "2021-11-16T10:56:49.414Z"
   },
   {
    "duration": 3,
    "start_time": "2021-11-16T10:56:49.680Z"
   },
   {
    "duration": 3,
    "start_time": "2021-11-16T10:56:50.370Z"
   },
   {
    "duration": 114,
    "start_time": "2021-11-16T10:59:34.518Z"
   },
   {
    "duration": 3,
    "start_time": "2021-11-16T11:01:41.201Z"
   },
   {
    "duration": 116,
    "start_time": "2021-11-16T11:01:48.754Z"
   },
   {
    "duration": 3,
    "start_time": "2021-11-16T11:02:16.685Z"
   },
   {
    "duration": 3,
    "start_time": "2021-11-16T11:02:19.479Z"
   },
   {
    "duration": 3,
    "start_time": "2021-11-16T11:02:47.067Z"
   },
   {
    "duration": 3,
    "start_time": "2021-11-16T11:02:49.353Z"
   },
   {
    "duration": 3,
    "start_time": "2021-11-16T11:03:07.835Z"
   },
   {
    "duration": 3,
    "start_time": "2021-11-16T11:03:07.953Z"
   },
   {
    "duration": 112,
    "start_time": "2021-11-16T11:07:52.072Z"
   },
   {
    "duration": 187,
    "start_time": "2021-11-16T11:09:23.468Z"
   },
   {
    "duration": 4,
    "start_time": "2021-11-16T11:10:01.455Z"
   },
   {
    "duration": 3,
    "start_time": "2021-11-16T11:10:05.069Z"
   },
   {
    "duration": 4,
    "start_time": "2021-11-16T11:10:13.376Z"
   },
   {
    "duration": 3,
    "start_time": "2021-11-16T11:10:14.434Z"
   },
   {
    "duration": 3,
    "start_time": "2021-11-16T11:10:22.853Z"
   },
   {
    "duration": 4,
    "start_time": "2021-11-16T11:27:29.279Z"
   },
   {
    "duration": 4,
    "start_time": "2021-11-16T11:29:08.919Z"
   },
   {
    "duration": 118,
    "start_time": "2021-11-16T11:29:46.703Z"
   },
   {
    "duration": 437,
    "start_time": "2021-11-16T11:36:02.181Z"
   },
   {
    "duration": 157,
    "start_time": "2021-11-16T11:36:14.388Z"
   },
   {
    "duration": 207,
    "start_time": "2021-11-16T11:47:15.898Z"
   },
   {
    "duration": 3,
    "start_time": "2021-11-16T11:53:52.092Z"
   },
   {
    "duration": 3,
    "start_time": "2021-11-16T11:53:52.236Z"
   },
   {
    "duration": 3,
    "start_time": "2021-11-16T11:59:12.005Z"
   },
   {
    "duration": 112,
    "start_time": "2021-11-16T12:00:33.446Z"
   },
   {
    "duration": 3,
    "start_time": "2021-11-16T12:02:14.453Z"
   },
   {
    "duration": 3,
    "start_time": "2021-11-16T12:02:39.512Z"
   },
   {
    "duration": 106,
    "start_time": "2021-11-16T12:03:03.460Z"
   }
  ],
  "kernelspec": {
   "display_name": "Python 3 (ipykernel)",
   "language": "python",
   "name": "python3"
  },
  "language_info": {
   "codemirror_mode": {
    "name": "ipython",
    "version": 3
   },
   "file_extension": ".py",
   "mimetype": "text/x-python",
   "name": "python",
   "nbconvert_exporter": "python",
   "pygments_lexer": "ipython3",
   "version": "3.9.1"
  },
  "toc": {
   "base_numbering": 1,
   "nav_menu": {},
   "number_sections": true,
   "sideBar": true,
   "skip_h1_title": false,
   "title_cell": "Table of Contents",
   "title_sidebar": "Contents",
   "toc_cell": true,
   "toc_position": {
    "height": "calc(100% - 180px)",
    "left": "10px",
    "top": "150px",
    "width": "165px"
   },
   "toc_section_display": true,
   "toc_window_display": true
  }
 },
 "nbformat": 4,
 "nbformat_minor": 2
}
